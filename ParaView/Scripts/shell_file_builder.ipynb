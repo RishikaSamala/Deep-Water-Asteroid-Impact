{
 "cells": [
  {
   "cell_type": "markdown",
   "id": "7f75ed65",
   "metadata": {},
   "source": [
    "## For yB11 simulation"
   ]
  },
  {
   "cell_type": "code",
   "execution_count": null,
   "id": "b3659f8b",
   "metadata": {},
   "outputs": [],
   "source": [
    "import requests\n",
    "import wget\n",
    "from bs4 import BeautifulSoup"
   ]
  },
  {
   "cell_type": "code",
   "execution_count": null,
   "id": "6ade5936",
   "metadata": {},
   "outputs": [],
   "source": [
    "URL = 'https://oceans11.lanl.gov/deepwaterimpact/yB11_300x300x300-FourScalars_resolution.html'\n",
    "page = requests.get(URL)\n",
    "soup = BeautifulSoup(page.content,\"html.parser\")"
   ]
  },
  {
   "cell_type": "code",
   "execution_count": 3,
   "id": "940b21e7",
   "metadata": {},
   "outputs": [
    {
     "ename": "SyntaxError",
     "evalue": "invalid syntax (3693078110.py, line 8)",
     "output_type": "error",
     "traceback": [
      "\u001b[0;36m  Input \u001b[0;32mIn [3]\u001b[0;36m\u001b[0m\n\u001b[0;31m    file.write(\"mv * \" + )\u001b[0m\n\u001b[0m                         ^\u001b[0m\n\u001b[0;31mSyntaxError\u001b[0m\u001b[0;31m:\u001b[0m invalid syntax\n"
     ]
    }
   ],
   "source": [
    "file = open(\"yB11.sh\", \"a\")\n",
    "frames = list(range(0,246))\n",
    "for i in frames:\n",
    "    results = soup.find(id = i)\n",
    "    URL = 'http://oceans11.lanl.gov/deepwaterimpact/yB11/300x300x300-FourScalars_resolution/' + results.text\n",
    "    print(i , URL)\n",
    "    file.write(\"wget\" + URL + \"\\n\")\n",
    "    file.write(\"mv * \" + \"/N/slate/aaphadke/yB11\")\n",
    "    # wget.download(URL,out = '/N/slate/aaphadke/yB11')"
   ]
  },
  {
   "cell_type": "markdown",
   "id": "827bc81d",
   "metadata": {},
   "source": [
    "## For yA11 simulation"
   ]
  },
  {
   "cell_type": "code",
   "execution_count": null,
   "id": "b11f66c4",
   "metadata": {},
   "outputs": [],
   "source": [
    "import requests\n",
    "import wget\n",
    "from bs4 import BeautifulSoup"
   ]
  },
  {
   "cell_type": "code",
   "execution_count": null,
   "id": "ca3db3ca",
   "metadata": {},
   "outputs": [],
   "source": [
    "URL = 'https://oceans11.lanl.gov/deepwaterimpact/yA11_300x300x300-FourScalars_resolution.html'\n",
    "page = requests.get(URL)\n",
    "soup = BeautifulSoup(page.content,\"html.parser\")"
   ]
  },
  {
   "cell_type": "code",
   "execution_count": 3,
   "id": "2c6dd20f",
   "metadata": {},
   "outputs": [
    {
     "ename": "SyntaxError",
     "evalue": "invalid syntax (3693078110.py, line 8)",
     "output_type": "error",
     "traceback": [
      "\u001b[0;36m  Input \u001b[0;32mIn [3]\u001b[0;36m\u001b[0m\n\u001b[0;31m    file.write(\"mv * \" + )\u001b[0m\n\u001b[0m                         ^\u001b[0m\n\u001b[0;31mSyntaxError\u001b[0m\u001b[0;31m:\u001b[0m invalid syntax\n"
     ]
    }
   ],
   "source": [
    "file = open(\"yA11.sh\", \"a\")\n",
    "frames = list(range(0,246)) !!!!!!!!!!!\n",
    "for i in frames:\n",
    "    results = soup.find(id = i)\n",
    "    URL = 'http://oceans11.lanl.gov/deepwaterimpact/yA11/300x300x300-FourScalars_resolution/' + results.text\n",
    "    print(i , URL)\n",
    "    file.write(\"wget\" + URL + \"\\n\")\n",
    "    file.write(\"mv * \" + \"/N/slate/aaphadke/yA11\")\n",
    "    # wget.download(URL,out = '/N/slate/aaphadke/yB11')"
   ]
  },
  {
   "cell_type": "markdown",
   "id": "c38e5f69",
   "metadata": {},
   "source": [
    "## For yC11 simulation"
   ]
  },
  {
   "cell_type": "code",
   "execution_count": null,
   "id": "0739499c",
   "metadata": {},
   "outputs": [],
   "source": [
    "import requests\n",
    "import wget\n",
    "from bs4 import BeautifulSoup"
   ]
  },
  {
   "cell_type": "code",
   "execution_count": null,
   "id": "e66665d7",
   "metadata": {},
   "outputs": [],
   "source": [
    "URL = 'https://oceans11.lanl.gov/deepwaterimpact/yC11_300x300x300-FourScalars_resolution.html'\n",
    "page = requests.get(URL)\n",
    "soup = BeautifulSoup(page.content,\"html.parser\")"
   ]
  },
  {
   "cell_type": "code",
   "execution_count": 3,
   "id": "e6396d4f",
   "metadata": {},
   "outputs": [
    {
     "ename": "SyntaxError",
     "evalue": "invalid syntax (3693078110.py, line 8)",
     "output_type": "error",
     "traceback": [
      "\u001b[0;36m  Input \u001b[0;32mIn [3]\u001b[0;36m\u001b[0m\n\u001b[0;31m    file.write(\"mv * \" + )\u001b[0m\n\u001b[0m                         ^\u001b[0m\n\u001b[0;31mSyntaxError\u001b[0m\u001b[0;31m:\u001b[0m invalid syntax\n"
     ]
    }
   ],
   "source": [
    "file = open(\"yC11.sh\", \"a\")\n",
    "frames = list(range(0,178)) !!!!!!!!!!!!!!!!!!\n",
    "for i in frames:\n",
    "    results = soup.find(id = i)\n",
    "    URL = 'http://oceans11.lanl.gov/deepwaterimpact/yC11/300x300x300-FourScalars_resolution/' + results.text\n",
    "    print(i , URL)\n",
    "    file.write(\"wget\" + URL + \"\\n\")\n",
    "    file.write(\"mv * \" + \"/N/slate/aaphadke/yC11\")\n",
    "    # wget.download(URL,out = '/N/slate/aaphadke/yB11')"
   ]
  },
  {
   "cell_type": "code",
   "execution_count": null,
   "id": "62e8de63",
   "metadata": {},
   "outputs": [],
   "source": []
  }
 ],
 "metadata": {
  "kernelspec": {
   "display_name": "Python 3 (ipykernel)",
   "language": "python",
   "name": "python3"
  },
  "language_info": {
   "codemirror_mode": {
    "name": "ipython",
    "version": 3
   },
   "file_extension": ".py",
   "mimetype": "text/x-python",
   "name": "python",
   "nbconvert_exporter": "python",
   "pygments_lexer": "ipython3",
   "version": "3.9.12"
  }
 },
 "nbformat": 4,
 "nbformat_minor": 5
}
